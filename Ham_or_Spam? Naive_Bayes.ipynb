{
  "nbformat": 4,
  "nbformat_minor": 0,
  "metadata": {
    "kernelspec": {
      "display_name": "Python 3 (ipykernel)",
      "language": "python",
      "name": "python3"
    },
    "language_info": {
      "codemirror_mode": {
        "name": "ipython",
        "version": 3
      },
      "file_extension": ".py",
      "mimetype": "text/x-python",
      "name": "python",
      "nbconvert_exporter": "python",
      "pygments_lexer": "ipython3",
      "version": "3.8.12"
    },
    "toc": {
      "base_numbering": 1,
      "nav_menu": {},
      "number_sections": false,
      "sideBar": true,
      "skip_h1_title": false,
      "title_cell": "Table of Contents",
      "title_sidebar": "Contents",
      "toc_cell": false,
      "toc_position": {},
      "toc_section_display": true,
      "toc_window_display": true
    },
    "varInspector": {
      "cols": {
        "lenName": 16,
        "lenType": 16,
        "lenVar": 40
      },
      "kernels_config": {
        "python": {
          "delete_cmd_postfix": "",
          "delete_cmd_prefix": "del ",
          "library": "var_list.py",
          "varRefreshCmd": "print(var_dic_list())"
        },
        "r": {
          "delete_cmd_postfix": ") ",
          "delete_cmd_prefix": "rm(",
          "library": "var_list.r",
          "varRefreshCmd": "cat(var_dic_list()) "
        }
      },
      "types_to_exclude": [
        "module",
        "function",
        "builtin_function_or_method",
        "instance",
        "_Feature"
      ],
      "window_display": false
    },
    "colab": {
      "name": "01-Ham-or-Spam.ipynb",
      "provenance": [],
      "include_colab_link": true
    }
  },
  "cells": [
    {
      "cell_type": "markdown",
      "metadata": {
        "id": "view-in-github",
        "colab_type": "text"
      },
      "source": [
        "<a href=\"https://colab.research.google.com/github/Lisaaa2021/NLP-practice/blob/main/Ham_or_Spam%3F%20Naive_Bayes.ipynb\" target=\"_parent\"><img src=\"https://colab.research.google.com/assets/colab-badge.svg\" alt=\"Open In Colab\"/></a>"
      ]
    },
    {
      "cell_type": "markdown",
      "metadata": {
        "id": "GH8AX-xEVY3j"
      },
      "source": [
        "# Ham or Spam?\n",
        "Spam detection using naive_bayes"
      ]
    },
    {
      "cell_type": "code",
      "metadata": {
        "colab": {
          "base_uri": "https://localhost:8080/"
        },
        "id": "z3E99a8-WXpx",
        "outputId": "56ecaa10-7b57-456a-fce7-56025c119cfa"
      },
      "source": [
        "!pip install nltk\n",
        "import nltk\n",
        "nltk.download('stopwords')\n",
        "nltk.download('punkt')\n",
        "nltk.download('wordnet')"
      ],
      "execution_count": 17,
      "outputs": [
        {
          "output_type": "stream",
          "name": "stdout",
          "text": [
            "Requirement already satisfied: nltk in /usr/local/lib/python3.7/dist-packages (3.2.5)\n",
            "Requirement already satisfied: six in /usr/local/lib/python3.7/dist-packages (from nltk) (1.15.0)\n",
            "[nltk_data] Downloading package stopwords to /root/nltk_data...\n",
            "[nltk_data]   Unzipping corpora/stopwords.zip.\n",
            "[nltk_data] Downloading package punkt to /root/nltk_data...\n",
            "[nltk_data]   Unzipping tokenizers/punkt.zip.\n",
            "[nltk_data] Downloading package wordnet to /root/nltk_data...\n",
            "[nltk_data]   Unzipping corpora/wordnet.zip.\n"
          ]
        },
        {
          "output_type": "execute_result",
          "data": {
            "text/plain": [
              "True"
            ]
          },
          "metadata": {},
          "execution_count": 17
        }
      ]
    },
    {
      "cell_type": "code",
      "metadata": {
        "id": "Y5DlM3ZEVY3o"
      },
      "source": [
        "import pandas as pd\n",
        "import string\n",
        "df = pd.read_csv(\"emails.csv\")"
      ],
      "execution_count": 23,
      "outputs": []
    },
    {
      "cell_type": "markdown",
      "metadata": {
        "tags": [],
        "id": "Cy_rilibVY3r"
      },
      "source": [
        "## Remove Punctuation"
      ]
    },
    {
      "cell_type": "code",
      "metadata": {
        "id": "ZT1gbcANVY3r"
      },
      "source": [
        "def remove_punctuation(x):\n",
        "    for punctuation in string.punctuation:\n",
        "        x = x.replace(punctuation, '') \n",
        "    return x\n",
        "    \n",
        "# remove_punctuation\n",
        "df['clean_text'] = df['text'].map(remove_punctuation)"
      ],
      "execution_count": 24,
      "outputs": []
    },
    {
      "cell_type": "code",
      "metadata": {
        "colab": {
          "base_uri": "https://localhost:8080/",
          "height": 423
        },
        "id": "NIMMPL1XV_FY",
        "outputId": "5a82ff66-a403-4339-f804-041d3635a406"
      },
      "source": [
        "df"
      ],
      "execution_count": 25,
      "outputs": [
        {
          "output_type": "execute_result",
          "data": {
            "text/html": [
              "<div>\n",
              "<style scoped>\n",
              "    .dataframe tbody tr th:only-of-type {\n",
              "        vertical-align: middle;\n",
              "    }\n",
              "\n",
              "    .dataframe tbody tr th {\n",
              "        vertical-align: top;\n",
              "    }\n",
              "\n",
              "    .dataframe thead th {\n",
              "        text-align: right;\n",
              "    }\n",
              "</style>\n",
              "<table border=\"1\" class=\"dataframe\">\n",
              "  <thead>\n",
              "    <tr style=\"text-align: right;\">\n",
              "      <th></th>\n",
              "      <th>text</th>\n",
              "      <th>spam</th>\n",
              "      <th>clean_text</th>\n",
              "    </tr>\n",
              "  </thead>\n",
              "  <tbody>\n",
              "    <tr>\n",
              "      <th>0</th>\n",
              "      <td>Subject: naturally irresistible your corporate...</td>\n",
              "      <td>1</td>\n",
              "      <td>Subject naturally irresistible your corporate ...</td>\n",
              "    </tr>\n",
              "    <tr>\n",
              "      <th>1</th>\n",
              "      <td>Subject: the stock trading gunslinger  fanny i...</td>\n",
              "      <td>1</td>\n",
              "      <td>Subject the stock trading gunslinger  fanny is...</td>\n",
              "    </tr>\n",
              "    <tr>\n",
              "      <th>2</th>\n",
              "      <td>Subject: unbelievable new homes made easy  im ...</td>\n",
              "      <td>1</td>\n",
              "      <td>Subject unbelievable new homes made easy  im w...</td>\n",
              "    </tr>\n",
              "    <tr>\n",
              "      <th>3</th>\n",
              "      <td>Subject: 4 color printing special  request add...</td>\n",
              "      <td>1</td>\n",
              "      <td>Subject 4 color printing special  request addi...</td>\n",
              "    </tr>\n",
              "    <tr>\n",
              "      <th>4</th>\n",
              "      <td>Subject: do not have money , get software cds ...</td>\n",
              "      <td>1</td>\n",
              "      <td>Subject do not have money  get software cds fr...</td>\n",
              "    </tr>\n",
              "    <tr>\n",
              "      <th>...</th>\n",
              "      <td>...</td>\n",
              "      <td>...</td>\n",
              "      <td>...</td>\n",
              "    </tr>\n",
              "    <tr>\n",
              "      <th>5723</th>\n",
              "      <td>Subject: re : research and development charges...</td>\n",
              "      <td>0</td>\n",
              "      <td>Subject re  research and development charges t...</td>\n",
              "    </tr>\n",
              "    <tr>\n",
              "      <th>5724</th>\n",
              "      <td>Subject: re : receipts from visit  jim ,  than...</td>\n",
              "      <td>0</td>\n",
              "      <td>Subject re  receipts from visit  jim   thanks ...</td>\n",
              "    </tr>\n",
              "    <tr>\n",
              "      <th>5725</th>\n",
              "      <td>Subject: re : enron case study update  wow ! a...</td>\n",
              "      <td>0</td>\n",
              "      <td>Subject re  enron case study update  wow  all ...</td>\n",
              "    </tr>\n",
              "    <tr>\n",
              "      <th>5726</th>\n",
              "      <td>Subject: re : interest  david ,  please , call...</td>\n",
              "      <td>0</td>\n",
              "      <td>Subject re  interest  david   please  call shi...</td>\n",
              "    </tr>\n",
              "    <tr>\n",
              "      <th>5727</th>\n",
              "      <td>Subject: news : aurora 5 . 2 update  aurora ve...</td>\n",
              "      <td>0</td>\n",
              "      <td>Subject news  aurora 5  2 update  aurora versi...</td>\n",
              "    </tr>\n",
              "  </tbody>\n",
              "</table>\n",
              "<p>5728 rows × 3 columns</p>\n",
              "</div>"
            ],
            "text/plain": [
              "                                                   text  ...                                         clean_text\n",
              "0     Subject: naturally irresistible your corporate...  ...  Subject naturally irresistible your corporate ...\n",
              "1     Subject: the stock trading gunslinger  fanny i...  ...  Subject the stock trading gunslinger  fanny is...\n",
              "2     Subject: unbelievable new homes made easy  im ...  ...  Subject unbelievable new homes made easy  im w...\n",
              "3     Subject: 4 color printing special  request add...  ...  Subject 4 color printing special  request addi...\n",
              "4     Subject: do not have money , get software cds ...  ...  Subject do not have money  get software cds fr...\n",
              "...                                                 ...  ...                                                ...\n",
              "5723  Subject: re : research and development charges...  ...  Subject re  research and development charges t...\n",
              "5724  Subject: re : receipts from visit  jim ,  than...  ...  Subject re  receipts from visit  jim   thanks ...\n",
              "5725  Subject: re : enron case study update  wow ! a...  ...  Subject re  enron case study update  wow  all ...\n",
              "5726  Subject: re : interest  david ,  please , call...  ...  Subject re  interest  david   please  call shi...\n",
              "5727  Subject: news : aurora 5 . 2 update  aurora ve...  ...  Subject news  aurora 5  2 update  aurora versi...\n",
              "\n",
              "[5728 rows x 3 columns]"
            ]
          },
          "metadata": {},
          "execution_count": 25
        }
      ]
    },
    {
      "cell_type": "markdown",
      "metadata": {
        "id": "6_JfAdscVY3u"
      },
      "source": [
        "## Lower Case"
      ]
    },
    {
      "cell_type": "code",
      "metadata": {
        "id": "ksihVoIxVY3v"
      },
      "source": [
        "df['clean_text'] = df['clean_text'].map(lambda x: x.lower())"
      ],
      "execution_count": 26,
      "outputs": []
    },
    {
      "cell_type": "markdown",
      "metadata": {
        "id": "TaQC4al3VY3w"
      },
      "source": [
        "## Remove Numbers"
      ]
    },
    {
      "cell_type": "code",
      "metadata": {
        "id": "bMU4h0RRVY3x"
      },
      "source": [
        "def remove_number(x):\n",
        "    X = ''.join(word for word in x if not word.isdigit())\n",
        "    return X\n",
        "\n",
        "df['clean_text']=df['clean_text'].map(remove_number)"
      ],
      "execution_count": 27,
      "outputs": []
    },
    {
      "cell_type": "markdown",
      "metadata": {
        "id": "55MeVECKVY3x"
      },
      "source": [
        "## Remove StopWords"
      ]
    },
    {
      "cell_type": "code",
      "metadata": {
        "id": "5V21FoKsVY3y"
      },
      "source": [
        "from nltk.corpus import stopwords \n",
        "from nltk.tokenize import word_tokenize\n",
        "\n",
        "stopwords = stopwords.words('english')\n",
        "\n",
        "def remove_stopwords(x):\n",
        "    word_tokens = word_tokenize(x)\n",
        "    X = [word for word in word_tokens if word not in stopwords]\n",
        "    return X\n",
        "\n",
        "df['clean_text']=df['clean_text'].map(remove_stopwords)"
      ],
      "execution_count": 28,
      "outputs": []
    },
    {
      "cell_type": "markdown",
      "metadata": {
        "id": "PUtSltZyVY3y"
      },
      "source": [
        "## Lemmatize"
      ]
    },
    {
      "cell_type": "code",
      "metadata": {
        "id": "QenUepoJVY3z"
      },
      "source": [
        "from nltk.stem import WordNetLemmatizer\n",
        "lemmatizer = WordNetLemmatizer()\n",
        "def lemmatizing(x):\n",
        "    X = [lemmatizer.lemmatize(word) for word in x]\n",
        "    X_string = ' '.join([element for element in X])\n",
        "    return X_string\n",
        "\n",
        "df['clean_text'] = df['clean_text'].map(lemmatizing)"
      ],
      "execution_count": 29,
      "outputs": []
    },
    {
      "cell_type": "markdown",
      "metadata": {
        "id": "BVLW5fcqVY3z"
      },
      "source": [
        "## Bag-of-words Modelling"
      ]
    },
    {
      "cell_type": "code",
      "metadata": {
        "id": "kLi1Ec8XVY30"
      },
      "source": [
        "from sklearn.feature_extraction.text import CountVectorizer\n",
        "countvectorizer = CountVectorizer()\n",
        "\n",
        "X_bow = countvectorizer.fit_transform(df['clean_text'])"
      ],
      "execution_count": 33,
      "outputs": []
    },
    {
      "cell_type": "code",
      "metadata": {
        "colab": {
          "base_uri": "https://localhost:8080/"
        },
        "id": "A_FnV0B1VY30",
        "outputId": "4878a02a-0e62-49df-fb36-00876f720468"
      },
      "source": [
        "countvectorizer.get_feature_names_out()"
      ],
      "execution_count": 34,
      "outputs": [
        {
          "output_type": "execute_result",
          "data": {
            "text/plain": [
              "array(['aa', 'aaa', 'aaaenerfax', ..., 'zzn', 'zzncacst', 'zzzz'],\n",
              "      dtype=object)"
            ]
          },
          "metadata": {},
          "execution_count": 34
        }
      ]
    },
    {
      "cell_type": "code",
      "metadata": {
        "colab": {
          "base_uri": "https://localhost:8080/"
        },
        "id": "8WJnfPmtVY30",
        "outputId": "a6060bd6-a7e6-4839-eaa2-98046d303b3d"
      },
      "source": [
        "from sklearn.naive_bayes import MultinomialNB\n",
        "from sklearn.model_selection import cross_val_score\n",
        "y = df['spam']\n",
        "nb_model = MultinomialNB()\n",
        "cv_results = cross_val_score(nb_model, X_bow, y, cv = 5)\n",
        "cv_results.mean()"
      ],
      "execution_count": 35,
      "outputs": [
        {
          "output_type": "execute_result",
          "data": {
            "text/plain": [
              "0.9895252901681946"
            ]
          },
          "metadata": {},
          "execution_count": 35
        }
      ]
    }
  ]
}